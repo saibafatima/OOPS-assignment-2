{
 "cells": [
  {
   "cell_type": "code",
   "execution_count": 1,
   "id": "694e71c6-f8de-405a-af40-615157b9d385",
   "metadata": {},
   "outputs": [],
   "source": [
    "#Q1. What is Abstraction in OOps? Explain with an example."
   ]
  },
  {
   "cell_type": "code",
   "execution_count": 2,
   "id": "83f8a44d-ef74-4097-8407-2958c5c503c8",
   "metadata": {},
   "outputs": [
    {
     "name": "stdout",
     "output_type": "stream",
     "text": [
      "1500\n"
     ]
    }
   ],
   "source": [
    "class BankAccount:\n",
    "    def __init__(self, balance=0):\n",
    "        self.__balance = balance\n",
    "\n",
    "    def deposit(self, amount):\n",
    "        self.__balance += amount\n",
    "\n",
    "    def withdraw(self, amount):\n",
    "        if amount > self.__balance:\n",
    "            print(\"Insufficient balance\")\n",
    "        else:\n",
    "            self.__balance -= amount\n",
    "\n",
    "    def get_balance(self):\n",
    "        return self.__balance\n",
    "\n",
    "account = BankAccount(1000)\n",
    "account.deposit(500)\n",
    "print(account.get_balance())  # Output: 1500\n"
   ]
  },
  {
   "cell_type": "code",
   "execution_count": 3,
   "id": "270b5c1d-e0da-45fe-8158-4b16c9f6e3ba",
   "metadata": {},
   "outputs": [],
   "source": [
    "#Q2. Differentiate between Abstraction and Encapsulation. Explain with an example."
   ]
  },
  {
   "cell_type": "code",
   "execution_count": 4,
   "id": "a6ec47b2-1b77-4366-88cc-00b3099e9dc3",
   "metadata": {},
   "outputs": [
    {
     "name": "stdout",
     "output_type": "stream",
     "text": [
      "John\n",
      "50000\n",
      "60000\n"
     ]
    }
   ],
   "source": [
    "class Employee:\n",
    "    def __init__(self, name, salary):\n",
    "        self.__name = name\n",
    "        self.__salary = salary\n",
    "\n",
    "    def get_name(self):\n",
    "        return self.__name\n",
    "\n",
    "    def get_salary(self):\n",
    "        return self.__salary\n",
    "\n",
    "    def set_salary(self, new_salary):\n",
    "        self.__salary = new_salary\n",
    "\n",
    "emp = Employee(\"John\", 50000)\n",
    "print(emp.get_name())  # Output: John\n",
    "print(emp.get_salary())  # Output: 50000\n",
    "emp.set_salary(60000)\n",
    "print(emp.get_salary())  # Output: 60000"
   ]
  },
  {
   "cell_type": "code",
   "execution_count": 5,
   "id": "5c2ac1b9-7f2a-4aca-802f-6b51aeb0a90b",
   "metadata": {},
   "outputs": [],
   "source": [
    "#Q3. What is abc module in python? Why is it used?"
   ]
  },
  {
   "cell_type": "code",
   "execution_count": 6,
   "id": "6dd60997-fda6-45da-a00c-1e3c222ad5e3",
   "metadata": {},
   "outputs": [
    {
     "name": "stdout",
     "output_type": "stream",
     "text": [
      "78.5\n"
     ]
    }
   ],
   "source": [
    "from abc import ABC, abstractmethod\n",
    "\n",
    "class Shape(ABC):\n",
    "    @abstractmethod\n",
    "    def area(self):\n",
    "        pass\n",
    "\n",
    "class Circle(Shape):\n",
    "    def __init__(self, radius):\n",
    "        self.radius = radius\n",
    "\n",
    "    def area(self):\n",
    "        return 3.14 * self.radius ** 2\n",
    "\n",
    "circle = Circle(5)\n",
    "print(circle.area())  # Output: 78.5"
   ]
  },
  {
   "cell_type": "code",
   "execution_count": 7,
   "id": "55fb85e7-a43d-4978-a0ea-943efba053ff",
   "metadata": {},
   "outputs": [],
   "source": [
    "#Q4. How can we achieve data abstraction?"
   ]
  },
  {
   "cell_type": "code",
   "execution_count": 8,
   "id": "31911d83-9f39-4dc3-8ad9-7edd135bedaf",
   "metadata": {},
   "outputs": [],
   "source": [
    "##Data abstraction can be achieved by:\n",
    "\n",
    "#Using access modifiers (public, private, protected) to control access to data.\n",
    "#Providing abstract interfaces or APIs that hide internal implementation details.\n",
    "#Using encapsulation to bundle data and methods that operate on that data within a single unit (a class or object).\n",
    "#Using abstract data types, such as interfaces or abstract classes, to define a contract or interface that must be followed by subclasses.##"
   ]
  },
  {
   "cell_type": "code",
   "execution_count": 9,
   "id": "1acd2de6-a4af-4f4c-af13-0adb93a21869",
   "metadata": {},
   "outputs": [],
   "source": [
    "#Q5. Can we create an instance of an abstract class? Explain your answer."
   ]
  },
  {
   "cell_type": "code",
   "execution_count": 11,
   "id": "bc6eca5a-4589-4aad-8dad-b7e7c54b9adc",
   "metadata": {},
   "outputs": [
    {
     "name": "stdout",
     "output_type": "stream",
     "text": [
      "Can't instantiate abstract class AbstractClass with abstract method do_something\n"
     ]
    }
   ],
   "source": [
    "from abc import ABC, abstractmethod\n",
    "\n",
    "class AbstractClass(ABC):\n",
    "    @abstractmethod\n",
    "    def do_something(self):\n",
    "        pass\n",
    "\n",
    "try:\n",
    "    obj = AbstractClass()\n",
    "except TypeError as e:\n",
    "    print(e)  # Output: Can't instantiate abstract class AbstractClass with abstract methods do_something\n",
    "       "
   ]
  },
  {
   "cell_type": "code",
   "execution_count": null,
   "id": "a8261ac0-b62c-4f18-affb-58cc95e6a60d",
   "metadata": {},
   "outputs": [],
   "source": []
  }
 ],
 "metadata": {
  "kernelspec": {
   "display_name": "Python 3 (ipykernel)",
   "language": "python",
   "name": "python3"
  },
  "language_info": {
   "codemirror_mode": {
    "name": "ipython",
    "version": 3
   },
   "file_extension": ".py",
   "mimetype": "text/x-python",
   "name": "python",
   "nbconvert_exporter": "python",
   "pygments_lexer": "ipython3",
   "version": "3.10.8"
  }
 },
 "nbformat": 4,
 "nbformat_minor": 5
}
